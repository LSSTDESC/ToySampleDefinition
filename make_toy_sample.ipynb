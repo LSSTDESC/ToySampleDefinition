{
 "cells": [
  {
   "cell_type": "markdown",
   "metadata": {},
   "source": [
    "# Make MLZ input catalog of [1-1], [2-1], and [1-2] groups from fof matching.\n",
    "Editted by HyeYun Park, adding MLZ catalog making to 'matching_fof.ipynb' <br>\n",
    "(Match truth and coadd catalogs for DC2 Run 1.1p : Owner: Yao-Yuan Mao, Scott Daniel (with help from Anže Slosar, Bhairav Valera, HyeYun Park)) <br>\n",
    "\n",
    "**Notes:**\n",
    "- Follow this [step-by-step guide](https://confluence.slac.stanford.edu/x/Xgg4Dg) if you don't know how to run this notebook.\n",
    "- If you need more information about the Generic Catalog Reader (GCR), see [this diagram](https://github.com/yymao/generic-catalog-reader/blob/master/README.md#concept) and [more examples](https://github.com/LSSTDESC/gcr-catalogs/blob/master/examples/GCRCatalogs%20Demo.ipynb)."
   ]
  },
  {
   "cell_type": "code",
   "execution_count": 1,
   "metadata": {},
   "outputs": [],
   "source": [
    "import numpy as np\n",
    "import matplotlib.pyplot as plt\n",
    "%matplotlib inline"
   ]
  },
  {
   "cell_type": "code",
   "execution_count": 2,
   "metadata": {},
   "outputs": [],
   "source": [
    "from astropy.coordinates import SkyCoord\n",
    "import FoFCatalogMatching\n",
    "import GCRCatalogs"
   ]
  },
  {
   "cell_type": "code",
   "execution_count": 3,
   "metadata": {},
   "outputs": [],
   "source": [
    "# load coadd catalog (for a single tract)\n",
    "coadd_cat = GCRCatalogs.load_catalog('dc2_object_run1.2i_all_columns')"
   ]
  },
  {
   "cell_type": "code",
   "execution_count": 4,
   "metadata": {
    "scrolled": true
   },
   "outputs": [],
   "source": [
    "# Let's choose a small RA and Dec range to do the matching so that it won't take too long!\n",
    "use_coord_filters=False\n",
    "\n",
    "ra_min, ra_max = 55.5, 56.0\n",
    "dec_min, dec_max = -29.0, -28.5\n",
    "\n",
    "if use_coord_filters:\n",
    "    coord_filters = [\n",
    "        'ra >= {}'.format(ra_min),\n",
    "        'ra < {}'.format(ra_max),\n",
    "        'dec >= {}'.format(dec_min),\n",
    "        'dec < {}'.format(dec_max)]\n",
    "else:\n",
    "    coord_filters=[]"
   ]
  },
  {
   "cell_type": "code",
   "execution_count": 5,
   "metadata": {},
   "outputs": [],
   "source": [
    "# star, sprinkled, agn cuts for the truth catalog.\n",
    "from GCR import GCRQuery\n",
    "star_sprinkled_filter = [\n",
    "    ~GCRQuery('star'),\n",
    "    ~GCRQuery('sprinkled'),\n",
    "    ~GCRQuery('agn')\n",
    "]"
   ]
  },
  {
   "cell_type": "code",
   "execution_count": 6,
   "metadata": {},
   "outputs": [],
   "source": [
    "# Lensing cuts based on Mandelbaum 2017 (arxiv 1705.06745)\n",
    "lensing_cuts = [\n",
    "    ~GCRQuery((np.isnan, 'i_modelfit_CModel_instFlux')), # (from this and below) remove nan entries\n",
    "    ~GCRQuery((np.isnan, 'ext_shapeHSM_HsmShapeRegauss_resolution')),\n",
    "    ~GCRQuery((np.isnan, 'ext_shapeHSM_HsmShapeRegauss_e1')),\n",
    "    ~GCRQuery((np.isnan, 'ext_shapeHSM_HsmShapeRegauss_e2')),\n",
    "    GCRQuery('i_SN_cmodel >= 10'),\n",
    "    GCRQuery('detect_isPrimary'), # (from this and below) basic flag cuts \n",
    "    ~GCRQuery('deblend_skipped'),\n",
    "    ~GCRQuery('base_PixelFlags_flag_edge'),\n",
    "    ~GCRQuery('base_PixelFlags_flag_interpolatedCenter'),\n",
    "    ~GCRQuery('base_PixelFlags_flag_saturatedCenter'),\n",
    "    ~GCRQuery('base_PixelFlags_flag_crCenter'),\n",
    "    ~GCRQuery('base_PixelFlags_flag_bad'),\n",
    "    ~GCRQuery('base_PixelFlags_flag_suspectCenter'),\n",
    "    ~GCRQuery('base_PixelFlags_flag_clipped'),\n",
    "    ~GCRQuery('ext_shapeHSM_HsmShapeRegauss_flag'),\n",
    "    GCRQuery('HSM_res >= 0.3'),\n",
    "    GCRQuery('HSM_ell < 2.0'),\n",
    "    GCRQuery('ext_shapeHSM_HsmShapeRegauss_sigma <= 0.4'),\n",
    "    GCRQuery('mag_i_cModel < 24.5'), # FIXME: Doesnt have exinction correction\n",
    "    GCRQuery('base_Blendedness_abs_instFlux < 10**(-0.375)'),\n",
    "]\n",
    "#    GCRQuery('i_SN_cmodel >= 10'), # (from this and below) cut on object properties"
   ]
  },
  {
   "cell_type": "code",
   "execution_count": 7,
   "metadata": {},
   "outputs": [],
   "source": [
    "# Let's also define a magnitude cut\n",
    "mag_filters = [\n",
    "    GCRQuery((np.isfinite, 'mag_i')),\n",
    "    GCRQuery('mag_i < 25.5')\n",
    "]"
   ]
  },
  {
   "cell_type": "code",
   "execution_count": 8,
   "metadata": {},
   "outputs": [],
   "source": [
    "# let's add total ellipticity for later use (not needed for now)\n",
    "coadd_cat.add_derived_quantity('shape_hsm_regauss_etot', np.hypot, 'ext_shapeHSM_HsmShapeRegauss_e1', 'ext_shapeHSM_HsmShapeRegauss_e2')"
   ]
  },
  {
   "cell_type": "code",
   "execution_count": 9,
   "metadata": {},
   "outputs": [],
   "source": [
    "coadd_cat.add_quantity_modifier('i_SN_cmodel', \n",
    "                              (np.divide, 'i_modelfit_CModel_instFlux', 'i_modelfit_CModel_instFluxErr'), \n",
    "                              overwrite=True)\n",
    "coadd_cat.add_quantity_modifier('HSM_res', \n",
    "                              'ext_shapeHSM_HsmShapeRegauss_resolution', \n",
    "                              overwrite=False)\n",
    "coadd_cat.add_quantity_modifier('HSM_ell', \n",
    "                              (np.hypot, 'ext_shapeHSM_HsmShapeRegauss_e1', 'ext_shapeHSM_HsmShapeRegauss_e2'), \n",
    "                              overwrite=True)\n",
    "coadd_cat.add_quantity_modifier('psf_size', \n",
    "                              (lambda xx, yy, xy: 0.168*2.355*(xx*yy - xy*xy)**0.25, 'r_base_SdssShape_psf_xx', 'r_base_SdssShape_psf_yy', 'r_base_SdssShape_psf_xy'),\n",
    "                              overwrite=True)"
   ]
  },
  {
   "cell_type": "code",
   "execution_count": 10,
   "metadata": {},
   "outputs": [],
   "source": [
    "# Load ra and dec from coadd, using both of the filters we just defined. (why not also grab e1 and e2 for later use?)\n",
    "coadd_data = coadd_cat.get_quantities(['ra', 'dec', 'objectId','mag_i_cModel','mag_u_cModel','mag_g_cModel','mag_r_cModel',\n",
    "                                       'mag_y_cModel','mag_z_cModel',\n",
    "                                       'magerr_i','magerr_u','magerr_g','magerr_r','magerr_y',\n",
    "                                       'magerr_z','shape_hsm_regauss_etot','i_modelfit_CModel_instFlux',\n",
    "                                      'ext_shapeHSM_HsmShapeRegauss_resolution',\n",
    "                                      'ext_shapeHSM_HsmShapeRegauss_e1',\n",
    "                                      'ext_shapeHSM_HsmShapeRegauss_e2',\n",
    "                                      'deblend_skipped','base_PixelFlags_flag_edge',\n",
    "                                      'base_PixelFlags_flag_interpolatedCenter',\n",
    "                                      'base_PixelFlags_flag_saturatedCenter','base_PixelFlags_flag_crCenter',\n",
    "                                      'base_PixelFlags_flag_bad','base_PixelFlags_flag_suspectCenter',\n",
    "                                      'base_PixelFlags_flag_clipped','ext_shapeHSM_HsmShapeRegauss_flag',\n",
    "                                      'i_SN_cmodel','detect_isPrimary','HSM_res',\n",
    "                                      'HSM_ell','ext_shapeHSM_HsmShapeRegauss_sigma','mag_i_cModel',\n",
    "                                      'base_Blendedness_abs_instFlux','mag_i'])#, filters=(coord_filters + mag_filters))"
   ]
  },
  {
   "cell_type": "code",
   "execution_count": 11,
   "metadata": {},
   "outputs": [],
   "source": [
    "coadd_cat_pz = GCRCatalogs.load_catalog('dc2_object_run1.2i_all_columns_with_photoz')"
   ]
  },
  {
   "cell_type": "code",
   "execution_count": 12,
   "metadata": {},
   "outputs": [],
   "source": [
    "coadd_data_pz=coadd_cat_pz.get_quantities(['photoz_mode','photoz_pdf'])"
   ]
  },
  {
   "cell_type": "code",
   "execution_count": 13,
   "metadata": {},
   "outputs": [],
   "source": [
    "filters=(mag_filters+lensing_cuts+coord_filters)\n",
    "mask = GCRQuery(*filters).mask(coadd_data)"
   ]
  },
  {
   "cell_type": "code",
   "execution_count": 14,
   "metadata": {},
   "outputs": [
    {
     "data": {
      "text/plain": [
       "(2840487, 2840487, 2840487, 493408)"
      ]
     },
     "execution_count": 14,
     "metadata": {},
     "output_type": "execute_result"
    }
   ],
   "source": [
    "len(coadd_data['ra']), len(coadd_data_pz['photoz_mode']), len(mask), mask.sum()"
   ]
  },
  {
   "cell_type": "code",
   "execution_count": 15,
   "metadata": {},
   "outputs": [],
   "source": [
    "## This is idotic, but I don't know a better way of doing it:\n",
    "for q in coadd_data.keys():\n",
    "    coadd_data[q]=coadd_data[q][mask]\n",
    "for q in coadd_data_pz.keys():\n",
    "    coadd_data_pz[q]=coadd_data_pz[q][mask]\n",
    "    "
   ]
  },
  {
   "cell_type": "code",
   "execution_count": 16,
   "metadata": {},
   "outputs": [
    {
     "data": {
      "text/plain": [
       "(493408, 493408)"
      ]
     },
     "execution_count": 16,
     "metadata": {},
     "output_type": "execute_result"
    }
   ],
   "source": [
    "len(coadd_data['ra']), len(coadd_data_pz['photoz_mode'])"
   ]
  },
  {
   "cell_type": "code",
   "execution_count": 17,
   "metadata": {
    "scrolled": true
   },
   "outputs": [],
   "source": [
    "# Let's now turn to the truth catalog, turn of md5 sum check to save time\n",
    "truth_cat = GCRCatalogs.load_catalog('dc2_truth_run1.2_static', {'md5': None})"
   ]
  },
  {
   "cell_type": "code",
   "execution_count": 18,
   "metadata": {},
   "outputs": [],
   "source": [
    "# to make our `mag_filters` work, let's define mag_i for the truth catalog\n",
    "truth_cat.add_quantity_modifier('mag_i', 'i')"
   ]
  },
  {
   "cell_type": "code",
   "execution_count": 19,
   "metadata": {
    "scrolled": true
   },
   "outputs": [],
   "source": [
    "# get ra and dec from truth catalog\n",
    "# note that we add i < 26.5 to the native filter to speed up load time (two mags deeper)\n",
    "truth_native_filters = (coord_filters + ['i < 26.5'])\n",
    "truth_data = truth_cat.get_quantities(['ra', 'dec', 'object_id', 'star', 'sprinkled','agn','redshift','mag_true_i',\n",
    "                                      'g','mag_true_g','mag_true_r', 'mag_true_u', 'mag_true_y', 'mag_true_z'],filters=star_sprinkled_filter, native_filters=truth_native_filters)\n",
    "\n",
    "# We will use the object_id, star, and sprinkled columns when cross-referencing truth information with the extragalactic catalog."
   ]
  },
  {
   "cell_type": "code",
   "execution_count": 20,
   "metadata": {},
   "outputs": [
    {
     "name": "stdout",
     "output_type": "stream",
     "text": [
      "(1959507,)\n"
     ]
    }
   ],
   "source": [
    "print (truth_data['ra'].shape)"
   ]
  },
  {
   "cell_type": "code",
   "execution_count": 21,
   "metadata": {},
   "outputs": [],
   "source": [
    "# now we can really do the matching!\n",
    "# FoFCatalogMatching.match takes a dictionary of catalogs to match, a friends-of-friends linking length. \n",
    "# Because our \"catalog\" is not an astropy table or pandas dataframe, \n",
    "# `len(truth_coord)` won't give the actual length of the table\n",
    "# so we need to specify `catalog_len_getter` so that the code knows how to get the length of the catalog.\n",
    "\n",
    "results = FoFCatalogMatching.match(\n",
    "    catalog_dict={'truth': truth_data, 'coadd': coadd_data},\n",
    "    linking_lengths=0.2,\n",
    "    catalog_len_getter=lambda x: len(x['ra']),\n",
    ")"
   ]
  },
  {
   "cell_type": "code",
   "execution_count": 22,
   "metadata": {},
   "outputs": [
    {
     "data": {
      "image/png": "[encoded data removed]",
      "text/plain": [
       "<Figure size 432x288 with 2 Axes>"
      ]
     },
     "metadata": {
      "needs_background": "light"
     },
     "output_type": "display_data"
    }
   ],
   "source": [
    "# now we want to count the number of truth and coadd objects *for each group*\n",
    "# but instead of looping over groups, we can do this in a smart (and very fast) way\n",
    "\n",
    "# first we need to know which rows are from the truth catalog and which are from the coadd\n",
    "truth_mask = results['catalog_key'] == 'truth'\n",
    "coadd_mask = ~truth_mask\n",
    "\n",
    "# then np.bincount will give up the number of id occurrences (like historgram but with integer input)\n",
    "n_groups = results['group_id'].max() + 1\n",
    "n_truth = np.bincount(results['group_id'][truth_mask], minlength=n_groups)\n",
    "n_coadd = np.bincount(results['group_id'][coadd_mask], minlength=n_groups)\n",
    "\n",
    "# now n_truth and n_coadd are the number of truth/coadd objects in each group\n",
    "# we want to make a 2d histrogram of (n_truth, n_coadd). \n",
    "n_max = max(n_truth.max(), n_coadd.max()) + 1\n",
    "hist_2d = np.bincount(n_coadd * n_max + n_truth, minlength=n_max*n_max).reshape(n_max, n_max)\n",
    "\n",
    "plt.imshow(np.log10(hist_2d+1), extent=(-0.5, n_max-0.5, -0.5, n_max-0.5), origin='lower');\n",
    "plt.xlabel('Number of truth objects');\n",
    "plt.ylabel('Number of coadd objects');\n",
    "plt.xlim(-0.5,5.5)\n",
    "plt.ylim(-0.5,5.5)\n",
    "plt.colorbar(label=r'$\\log(N_{\\rm groups} \\, + \\, 1)$');"
   ]
  },
  {
   "cell_type": "code",
   "execution_count": 23,
   "metadata": {},
   "outputs": [],
   "source": [
    "# Let's further inspect the objects in the groups that have 1-to-1 truth/coadd match.\n",
    "\n",
    "# first, let's find our the IDs of the groups that have 1-to-1 truth/coadd match:\n",
    "one_to_one_group_mask = np.in1d(results['group_id'], np.flatnonzero((n_truth == 1) & (n_coadd == 1)))\n",
    "\n",
    "# and then we can find the row indices in the *original* truth/coadd catalogs for those 1-to-1 groups\n",
    "truth_idx = results['row_index'][one_to_one_group_mask & truth_mask]\n",
    "coadd_idx = results['row_index'][one_to_one_group_mask & coadd_mask]"
   ]
  },
  {
   "cell_type": "code",
   "execution_count": 24,
   "metadata": {},
   "outputs": [],
   "source": [
    "# Let's further inspect the objects in the groups that have 2-to-2 truth/coadd match.\n",
    "# This group will contain mis-detected objects.\n",
    "# first, let's find our the IDs of the groups that have 2-to-2 truth/coadd match:\n",
    "two_to_two_group_mask = np.in1d(results['group_id'], np.flatnonzero((n_truth == 2) & (n_coadd == 2)))\n",
    "# and then we can find the row indices in the *original* truth/coadd catalogs for those 2-to-2 groups\n",
    "truth_idx22 = results['row_index'][two_to_two_group_mask & truth_mask]\n",
    "coadd_idx22 = results['row_index'][two_to_two_group_mask & coadd_mask]"
   ]
  },
  {
   "cell_type": "code",
   "execution_count": 25,
   "metadata": {},
   "outputs": [
    {
     "name": "stdout",
     "output_type": "stream",
     "text": [
      "364837\n",
      "364837\n",
      "0\n",
      "0\n"
     ]
    }
   ],
   "source": [
    "# Check number of objects in each group.\n",
    "print (len(truth_idx))\n",
    "print (len(coadd_idx))\n",
    "print (len(truth_idx22))\n",
    "print (len(coadd_idx22))"
   ]
  },
  {
   "cell_type": "code",
   "execution_count": 26,
   "metadata": {},
   "outputs": [],
   "source": [
    "## Now generate a numpy array \n",
    "cafields=['mag_u_cModel','mag_g_cModel','mag_r_cModel','mag_i_cModel','mag_z_cModel','mag_y_cModel',\n",
    "        'magerr_u','magerr_g','magerr_r','magerr_i','magerr_z', 'magerr_y']\n",
    "capzfields=['photoz_mode'] ##photozpdf is a special case\n",
    "tfields=['redshift']\n",
    "otype=[]\n",
    "for f in cafields:\n",
    "    otype.append((f,coadd_data[f].dtype))\n",
    "for f in capzfields:\n",
    "    otype.append((f,coadd_data_pz[f].dtype))\n",
    "for f in tfields:\n",
    "    otype.append((f,truth_data[f].dtype))\n",
    "otype.append(('photoz_pdf','101f8'))\n",
    "out=np.empty(len(coadd_idx),dtype=otype)\n",
    "for f in cafields:\n",
    "    out[f]=coadd_data[f][coadd_idx]\n",
    "for f in capzfields:\n",
    "    out[f]=coadd_data_pz[f][coadd_idx]\n",
    "for f in tfields:\n",
    "    out[f]=truth_data[f][truth_idx]\n",
    "out['photoz_pdf']=coadd_data_pz['photoz_pdf'][coadd_idx,:]"
   ]
  },
  {
   "cell_type": "code",
   "execution_count": 27,
   "metadata": {},
   "outputs": [],
   "source": [
    "np.savez('sampledeftoy',out)"
   ]
  },
  {
   "cell_type": "code",
   "execution_count": null,
   "metadata": {},
   "outputs": [],
   "source": []
  }
 ],
 "metadata": {
  "kernelspec": {
   "display_name": "desc-python",
   "language": "python",
   "name": "desc-python"
  },
  "language_info": {
   "codemirror_mode": {
    "name": "ipython",
    "version": 3
   },
   "file_extension": ".py",
   "mimetype": "text/x-python",
   "name": "python",
   "nbconvert_exporter": "python",
   "pygments_lexer": "ipython3",
   "version": "3.7.2"
  }
 },
 "nbformat": 4,
 "nbformat_minor": 2
}
